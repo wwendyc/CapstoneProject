{
 "cells": [
  {
   "cell_type": "code",
   "execution_count": 1,
   "metadata": {},
   "outputs": [],
   "source": [
    "import os\n",
    "import numpy as np\n",
    "import pandas as pd\n",
    "import matplotlib.pyplot as plt\n"
   ]
  },
  {
   "cell_type": "code",
   "execution_count": 2,
   "metadata": {},
   "outputs": [
    {
     "name": "stdout",
     "output_type": "stream",
     "text": [
      "Type your favorite stock and press return:  amzn\n",
      "AMZN\n"
     ]
    }
   ],
   "source": [
    "#read user stock input\n",
    "favor_stock = input(\"Type your favorite stock and press return:  \")\n",
    "favor_stock=favor_stock.upper()\n",
    "print (favor_stock)"
   ]
  },
  {
   "cell_type": "code",
   "execution_count": 3,
   "metadata": {},
   "outputs": [
    {
     "name": "stdout",
     "output_type": "stream",
     "text": [
      "corr2 head:\n",
      "           PCA1      PCA2      PCA3      PCA4      PCA5\n",
      "MMM   0.987235 -0.095806 -0.055962 -0.039496  0.016730\n",
      "ABT   0.965670  0.062359 -0.063589  0.109156  0.124772\n",
      "ACN   0.975498 -0.074403 -0.158498 -0.050076 -0.018694\n",
      "ATVI  0.871687 -0.435483 -0.066469 -0.108992  0.064664\n",
      "AYI   0.918923 -0.114110 -0.156262  0.204377 -0.166625\n"
     ]
    }
   ],
   "source": [
    "corr2 = pd.read_csv(os.path.join('data2','pca500-components.csv'),index_col=0)\n",
    "\n",
    "print(\"corr2 head:\\n\",corr2.head())\n"
   ]
  },
  {
   "cell_type": "code",
   "execution_count": 6,
   "metadata": {},
   "outputs": [
    {
     "name": "stdout",
     "output_type": "stream",
     "text": [
      "pointA: [[ 0.92144733 -0.27888979]]\n",
      "           PCA1      PCA2      PCA3      PCA4      PCA5  Distance\n",
      "APA   -0.639347  0.259524  0.531898 -0.323917 -0.263473  1.651050\n",
      "CHK   -0.589443  0.245435  0.717297 -0.027842 -0.046916  1.599283\n",
      "FCX   -0.508427  0.416629  0.564571 -0.386398 -0.227312  1.590059\n",
      "RRC   -0.177889  0.842170  0.314208 -0.062877  0.178443  1.570132\n",
      "DVN   -0.533611  0.201010  0.731674 -0.035740 -0.165281  1.532155\n",
      "MOS   -0.510461  0.116095  0.681626 -0.027476 -0.264971  1.485387\n",
      "NEM   -0.552846 -0.167523 -0.012832 -0.602370 -0.381328  1.478494\n",
      "MRO    0.004617  0.835073  0.470225 -0.113130  0.103871  1.442738\n",
      "NOV    0.048224  0.764688  0.509564 -0.238656 -0.085752  1.360726\n",
      "NBL    0.224762  0.860362  0.322783 -0.125140  0.129939  1.335390\n",
      "APC    0.245718  0.826524  0.355861 -0.122498 -0.041708  1.295589\n",
      "RL     0.345669  0.876477 -0.044198 -0.168844 -0.024184  1.290888\n",
      "NFX   -0.289013 -0.146673  0.402058 -0.262463 -0.709214  1.217660\n",
      "FTI    0.421220  0.816399  0.176391 -0.266608 -0.018431  1.204111\n",
      "NRG   -0.188108  0.139262  0.847823  0.111422  0.308144  1.185734\n",
      "EXC   -0.217881 -0.550922  0.682555  0.114160 -0.064291  1.171355\n",
      "HES   -0.053444  0.367329  0.803800  0.135570 -0.064888  1.169620\n",
      "VIAB   0.490234  0.805429  0.231631  0.047054  0.106052  1.166915\n",
      "FLR    0.130476  0.515796  0.720104 -0.072122 -0.083163  1.121232\n",
      "ARNC  -0.191586 -0.230873  0.891012  0.151004 -0.183586  1.114068\n",
      "OXY    0.413671  0.693134  0.168428 -0.316196 -0.321416  1.096662\n",
      "LUK   -0.152742 -0.062458  0.909006 -0.110520 -0.102954  1.095776\n",
      "FE    -0.153990 -0.133851  0.584717  0.164719 -0.087003  1.085174\n",
      "AIG   -0.159604 -0.314622  0.787398  0.251577 -0.090070  1.081642\n",
      "C     -0.138571 -0.376011  0.801892  0.261971 -0.011473  1.064458\n",
      "DISCA  0.614961  0.725393 -0.012358 -0.063428  0.118300  1.050008\n",
      "CTL    0.501084  0.672037 -0.033722 -0.145377 -0.293075  1.039696\n",
      "MAT    0.570848  0.653478 -0.094809 -0.106437  0.021334  0.996108\n",
      "PRGO   0.632175  0.672455 -0.115291  0.235200 -0.071966  0.994352\n",
      "COP    0.583693  0.655704  0.416858 -0.002366  0.074419  0.993752\n",
      "GPS    0.629342  0.667993  0.085275  0.100357  0.227568  0.990915\n",
      "SRCL   0.636523  0.647761 -0.086933  0.283003 -0.123593  0.969465\n",
      "M      0.658852  0.654285  0.070000  0.293832 -0.036628  0.969418\n",
      "IBM    0.603950  0.614381 -0.096909 -0.376437 -0.045802  0.948018\n",
      "HPQ    0.034811 -0.594821  0.444281 -0.097389 -0.035268  0.941241\n",
      "KSS    0.442986  0.502536  0.124212  0.153749 -0.131926  0.916270\n",
      "FLS    0.676543  0.604014  0.263471 -0.005473  0.149747  0.916241\n",
      "WYNN   0.605397  0.577662  0.302017 -0.253522  0.166564  0.913000\n",
      "COG    0.707993  0.596365  0.099939  0.018249  0.257079  0.900907\n",
      "BEN    0.708970  0.596023  0.221816 -0.112898  0.083087  0.900343\n",
      "EQT    0.675240  0.585499  0.278375  0.131709  0.131091  0.898770\n",
      "CF     0.672712  0.582029  0.089319  0.208647 -0.016225  0.896131\n",
      "QCOM   0.737590  0.590618  0.058765 -0.084269  0.085367  0.888734\n",
      "BWA    0.753904  0.569554  0.168174 -0.065691  0.035542  0.864828\n",
      "JWN    0.773120  0.544921 -0.000296  0.108097 -0.119089  0.837057\n",
      "NTAP   0.373957  0.340773  0.089075 -0.643387 -0.304032  0.826878\n",
      "AES    0.165348  0.049970  0.869019  0.052021 -0.119121  0.824521\n",
      "GWW    0.805275  0.535714 -0.123264 -0.015582  0.019795  0.822846\n",
      "HP     0.687429  0.504138  0.284082 -0.070346 -0.003095  0.817250\n",
      "JEC    0.115594 -0.164183  0.869333  0.024927  0.112856  0.813976\n",
      "AMZN   0.921447 -0.278890 -0.170548 -0.146603 -0.000243  0.000000\n"
     ]
    }
   ],
   "source": [
    "from scipy.spatial import distance\n",
    "\n",
    "#pointA = corr2.loc[['AMZN'],['PCA1','PCA2']].values\n",
    "pointA = corr2.loc[[favor_stock],['PCA1','PCA2']].values\n",
    "print (\"pointA:\", pointA)\n",
    "dis_list = np.empty(shape=[0, 1])\n",
    "for i in (corr2.index):\n",
    "    pointB=corr2.loc[[i],['PCA1','PCA2']].values\n",
    "    dis1 = distance.euclidean(pointA, pointB)\n",
    "    dis_list = np.append(dis_list, dis1)\n",
    "    #print(\"dist: \", dis_list)\n",
    "corr3 = corr2.copy()\n",
    "corr3['Distance']=dis_list\n",
    "corr3.sort_values('Distance',ascending=False,inplace=True)\n",
    "corr4=corr3.head(50).append(corr3.loc[favor_stock])\n",
    "print(corr4)\n",
    "corr4.to_csv(os.path.join('data2','pca500-distance.csv'))"
   ]
  },
  {
   "cell_type": "code",
   "execution_count": null,
   "metadata": {},
   "outputs": [],
   "source": []
  },
  {
   "cell_type": "code",
   "execution_count": null,
   "metadata": {},
   "outputs": [],
   "source": []
  },
  {
   "cell_type": "code",
   "execution_count": null,
   "metadata": {},
   "outputs": [],
   "source": []
  }
 ],
 "metadata": {
  "kernelspec": {
   "display_name": "Python 3",
   "language": "python",
   "name": "python3"
  },
  "language_info": {
   "codemirror_mode": {
    "name": "ipython",
    "version": 3
   },
   "file_extension": ".py",
   "mimetype": "text/x-python",
   "name": "python",
   "nbconvert_exporter": "python",
   "pygments_lexer": "ipython3",
   "version": "3.6.2"
  }
 },
 "nbformat": 4,
 "nbformat_minor": 2
}
